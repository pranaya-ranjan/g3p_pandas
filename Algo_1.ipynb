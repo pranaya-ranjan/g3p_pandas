{
  "nbformat": 4,
  "nbformat_minor": 0,
  "metadata": {
    "colab": {
      "name": "Algo-1.ipynb",
      "provenance": [],
      "authorship_tag": "ABX9TyOvMEGNDSvxoh3sP7x4NoCO",
      "include_colab_link": true
    },
    "kernelspec": {
      "name": "python3",
      "display_name": "Python 3"
    }
  },
  "cells": [
    {
      "cell_type": "markdown",
      "metadata": {
        "id": "view-in-github",
        "colab_type": "text"
      },
      "source": [
        "<a href=\"https://colab.research.google.com/github/pranaya-ranjan/g3p_pandas/blob/master/Algo_1.ipynb\" target=\"_parent\"><img src=\"https://colab.research.google.com/assets/colab-badge.svg\" alt=\"Open In Colab\"/></a>"
      ]
    },
    {
      "cell_type": "markdown",
      "metadata": {
        "id": "gvt0XLcDivtj"
      },
      "source": [
        "**Simple Algorithms**"
      ]
    },
    {
      "cell_type": "code",
      "metadata": {
        "id": "6pzciMYqi5RZ"
      },
      "source": [
        "def anagram(s1, s2):\n",
        "   \n",
        "    def count_chars(s):\n",
        "        h = {}\n",
        "        for char in s:\n",
        "            if char in h:\n",
        "                h[char] += 1\n",
        "            else:\n",
        "                h[char] = 1\n",
        "        print(h)      \n",
        "        return h\n",
        "    return count_chars(s1) == count_chars(s2)"
      ],
      "execution_count": null,
      "outputs": []
    },
    {
      "cell_type": "code",
      "metadata": {
        "id": "-6i_hNxFjmqK",
        "colab": {
          "base_uri": "https://localhost:8080/",
          "height": 119
        },
        "outputId": "5fb78a59-25e3-4fcc-b752-4a5d335aa546"
      },
      "source": [
        "assert anagram('word', 'wodr')\n",
        "assert not anagram('dog', 'dogg')\n",
        "assert anagram('racecar', 'carrace')"
      ],
      "execution_count": null,
      "outputs": [
        {
          "output_type": "stream",
          "text": [
            "{'w': 1, 'o': 1, 'r': 1, 'd': 1}\n",
            "{'w': 1, 'o': 1, 'd': 1, 'r': 1}\n",
            "{'d': 1, 'o': 1, 'g': 1}\n",
            "{'d': 1, 'o': 1, 'g': 2}\n",
            "{'r': 2, 'a': 2, 'c': 2, 'e': 1}\n",
            "{'c': 2, 'a': 2, 'r': 2, 'e': 1}\n"
          ],
          "name": "stdout"
        }
      ]
    }
  ]
}